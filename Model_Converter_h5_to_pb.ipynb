{
  "cells": [
    {
      "cell_type": "code",
      "source": [
        "# Convert .h5 to .pb(Graph)[Accepted by Opencv-TF]\n",
        "\n",
        "# Upload the Keras model(.h5 file)\n",
        "import tensorflow as tf\n",
        "from tensorflow.python.tools import freeze_graph\n",
        "from tensorflow.python.framework.convert_to_constants import convert_variables_to_constants_v2\n",
        "\n",
        "model = tf.keras.models.load_model('keras_model.h5')\n",
        "#tf.saved_model.save(model,'tf_model')\n",
        "\n",
        "full_model = tf.function(lambda x: model(x))\n",
        "full_model = full_model.get_concrete_function(\n",
        "    tf.TensorSpec(model.inputs[0].shape, model.inputs[0].dtype))\n",
        "\n",
        "# Get frozen ConcreteFunction\n",
        "frozen_func = convert_variables_to_constants_v2(full_model)\n",
        "frozen_func.graph.as_graph_def()\n",
        "\n",
        "layers = [op.name for op in frozen_func.graph.get_operations()]\n",
        "\n",
        "# Save frozen graph from frozen ConcreteFunction to hard drive\n",
        "tf.io.write_graph(graph_or_graph_def=frozen_func.graph,\n",
        "                  logdir=\"./frozen_models\",\n",
        "                  name=\"tf_final.pb\",\n",
        "                  as_text=False)\n"
      ],
      "metadata": {
        "id": "KMXBXTNEYvGB",
        "outputId": "5d7ca350-a4e6-45d2-95a0-4cc9f27c76a9",
        "colab": {
          "base_uri": "https://localhost:8080/",
          "height": 54
        }
      },
      "execution_count": 1,
      "outputs": [
        {
          "output_type": "stream",
          "name": "stdout",
          "text": [
            "WARNING:tensorflow:No training configuration found in the save file, so the model was *not* compiled. Compile it manually.\n"
          ]
        },
        {
          "output_type": "execute_result",
          "data": {
            "text/plain": [
              "'./frozen_models/tf_final.pb'"
            ],
            "application/vnd.google.colaboratory.intrinsic+json": {
              "type": "string"
            }
          },
          "metadata": {},
          "execution_count": 1
        }
      ]
    },
    {
      "cell_type": "code",
      "source": [
        "# https://github.com/opencv/opencv/issues/16582"
      ],
      "metadata": {
        "id": "s5M1XvFbWZyD"
      },
      "execution_count": null,
      "outputs": []
    },
    {
      "cell_type": "code",
      "source": [
        ""
      ],
      "metadata": {
        "id": "bM4f2eR0S8q4"
      },
      "execution_count": null,
      "outputs": []
    },
    {
      "cell_type": "markdown",
      "source": [
        "# (Optional) **MODEL OPTIMIZER**"
      ],
      "metadata": {
        "id": "aEix-rfmV6Ww"
      }
    },
    {
      "cell_type": "code",
      "source": [
        "pip install openvino-dev[tensorflow2]==2021.4.2"
      ],
      "metadata": {
        "id": "kvdqFWeMohYA",
        "outputId": "f00a1952-d57a-459b-8a5b-69c52a23c1c6",
        "colab": {
          "base_uri": "https://localhost:8080/"
        }
      },
      "execution_count": 1,
      "outputs": [
        {
          "output_type": "stream",
          "name": "stdout",
          "text": [
            "\u001b[K     |████████████████████████████████| 6.2 MB 13.9 MB/s \n",
            "\u001b[K     |████████████████████████████████| 517 kB 71.4 MB/s \n",
            "\u001b[K     |████████████████████████████████| 6.6 MB 51.6 MB/s \n",
            "\u001b[K     |████████████████████████████████| 596 kB 65.0 MB/s \n",
            "\u001b[K     |████████████████████████████████| 3.3 MB 56.6 MB/s \n",
            "\u001b[K     |████████████████████████████████| 14.1 MB 44.6 MB/s \n",
            "\u001b[K     |████████████████████████████████| 28.9 MB 105.9 MB/s \n",
            "\u001b[K     |████████████████████████████████| 2.0 MB 40.7 MB/s \n",
            "\u001b[K     |████████████████████████████████| 9.5 MB 37.1 MB/s \n",
            "\u001b[K     |████████████████████████████████| 3.1 MB 46.7 MB/s \n",
            "\u001b[K     |████████████████████████████████| 99 kB 9.2 MB/s \n",
            "\u001b[K     |████████████████████████████████| 25.9 MB 1.5 MB/s \n",
            "\u001b[K     |████████████████████████████████| 1.9 MB 42.2 MB/s \n",
            "\u001b[K     |████████████████████████████████| 60.5 MB 61 kB/s \n",
            "\u001b[K     |████████████████████████████████| 14.8 MB 56.3 MB/s \n",
            "\u001b[K     |████████████████████████████████| 62 kB 1.2 MB/s \n",
            "\u001b[K     |████████████████████████████████| 1.2 MB 59.3 MB/s \n",
            "\u001b[K     |████████████████████████████████| 394.5 MB 40 kB/s \n",
            "\u001b[K     |████████████████████████████████| 462 kB 37.4 MB/s \n",
            "\u001b[K     |████████████████████████████████| 132 kB 57.4 MB/s \n",
            "\u001b[K     |████████████████████████████████| 3.8 MB 46.3 MB/s \n",
            "\u001b[K     |████████████████████████████████| 2.9 MB 45.6 MB/s \n",
            "\u001b[?25h  Building wheel for jstyleson (setup.py) ... \u001b[?25l\u001b[?25hdone\n",
            "  Building wheel for progress (setup.py) ... \u001b[?25l\u001b[?25hdone\n",
            "  Building wheel for py-cpuinfo (setup.py) ... \u001b[?25l\u001b[?25hdone\n",
            "  Building wheel for wrapt (setup.py) ... \u001b[?25l\u001b[?25hdone\n",
            "\u001b[31mERROR: pip's dependency resolver does not currently take into account all the packages that are installed. This behaviour is the source of the following dependency conflicts.\n",
            "xarray-einstats 0.2.2 requires numpy>=1.21, but you have numpy 1.19.5 which is incompatible.\n",
            "google-colab 1.0.0 requires requests~=2.23.0, but you have requests 2.28.1 which is incompatible.\n",
            "datascience 0.10.6 requires folium==0.2.1, but you have folium 0.8.3 which is incompatible.\n",
            "albumentations 0.1.12 requires imgaug<0.2.7,>=0.2.5, but you have imgaug 0.2.9 which is incompatible.\u001b[0m\n"
          ]
        }
      ]
    },
    {
      "cell_type": "code",
      "source": [
        "!mo -h"
      ],
      "metadata": {
        "id": "8LPOORcLpeUr"
      },
      "execution_count": null,
      "outputs": []
    },
    {
      "cell_type": "code",
      "source": [
        "!mo --input_model /content/frozen_models/tf_final.pb --input_shape \"[1,224,224,3]\" --data_type=FP16 --output_dir /content"
      ],
      "metadata": {
        "id": "w4TvHl1Fojhc",
        "outputId": "e389f962-9955-4b9c-c57c-028377ca93e2",
        "colab": {
          "base_uri": "https://localhost:8080/"
        }
      },
      "execution_count": 1,
      "outputs": [
        {
          "output_type": "stream",
          "name": "stdout",
          "text": [
            "Model Optimizer arguments:\n",
            "Common parameters:\n",
            "\t- Path to the Input Model: \t/content/frozen_models/tf_final.pb\n",
            "\t- Path for generated IR: \t/content\n",
            "\t- IR output name: \ttf_final\n",
            "\t- Log level: \tERROR\n",
            "\t- Batch: \tNot specified, inherited from the model\n",
            "\t- Input layers: \tNot specified, inherited from the model\n",
            "\t- Output layers: \tNot specified, inherited from the model\n",
            "\t- Input shapes: \t[1,224,224,3]\n",
            "\t- Mean values: \tNot specified\n",
            "\t- Scale values: \tNot specified\n",
            "\t- Scale factor: \tNot specified\n",
            "\t- Precision of IR: \tFP16\n",
            "\t- Enable fusing: \tTrue\n",
            "\t- Enable grouped convolutions fusing: \tTrue\n",
            "\t- Move mean values to preprocess section: \tNone\n",
            "\t- Reverse input channels: \tFalse\n",
            "TensorFlow specific parameters:\n",
            "\t- Input model in text protobuf format: \tFalse\n",
            "\t- Path to model dump for TensorBoard: \tNone\n",
            "\t- List of shared libraries with TensorFlow custom layers implementation: \tNone\n",
            "\t- Update the configuration file with input/output node names: \tNone\n",
            "\t- Use configuration file used to generate the model with Object Detection API: \tNone\n",
            "\t- Use the config file: \tNone\n",
            "\t- Inference Engine found in: \t/usr/local/lib/python3.7/dist-packages/openvino\n",
            "Inference Engine version: \t2021.4.2-3976-0943ed67223-refs/pull/539/head\n",
            "Model Optimizer version: \t2021.4.2-3976-0943ed67223-refs/pull/539/head\n",
            "2022-06-30 05:29:15.490558: I tensorflow/stream_executor/platform/default/dso_loader.cc:49] Successfully opened dynamic library libcudart.so.11.0\n",
            "/usr/local/lib/python3.7/dist-packages/tensorflow/python/autograph/impl/api.py:22: DeprecationWarning: the imp module is deprecated in favour of importlib; see the module's documentation for alternative uses\n",
            "  import imp\n",
            "/usr/local/lib/python3.7/dist-packages/keras_preprocessing/image/utils.py:23: DeprecationWarning: NEAREST is deprecated and will be removed in Pillow 10 (2023-07-01). Use Resampling.NEAREST or Dither.NONE instead.\n",
            "  'nearest': pil_image.NEAREST,\n",
            "/usr/local/lib/python3.7/dist-packages/keras_preprocessing/image/utils.py:24: DeprecationWarning: BILINEAR is deprecated and will be removed in Pillow 10 (2023-07-01). Use Resampling.BILINEAR instead.\n",
            "  'bilinear': pil_image.BILINEAR,\n",
            "/usr/local/lib/python3.7/dist-packages/keras_preprocessing/image/utils.py:25: DeprecationWarning: BICUBIC is deprecated and will be removed in Pillow 10 (2023-07-01). Use Resampling.BICUBIC instead.\n",
            "  'bicubic': pil_image.BICUBIC,\n",
            "/usr/local/lib/python3.7/dist-packages/keras_preprocessing/image/utils.py:28: DeprecationWarning: HAMMING is deprecated and will be removed in Pillow 10 (2023-07-01). Use Resampling.HAMMING instead.\n",
            "  if hasattr(pil_image, 'HAMMING'):\n",
            "/usr/local/lib/python3.7/dist-packages/keras_preprocessing/image/utils.py:30: DeprecationWarning: BOX is deprecated and will be removed in Pillow 10 (2023-07-01). Use Resampling.BOX instead.\n",
            "  if hasattr(pil_image, 'BOX'):\n",
            "/usr/local/lib/python3.7/dist-packages/keras_preprocessing/image/utils.py:33: DeprecationWarning: LANCZOS is deprecated and will be removed in Pillow 10 (2023-07-01). Use Resampling.LANCZOS instead.\n",
            "  if hasattr(pil_image, 'LANCZOS'):\n",
            "[ SUCCESS ] Generated IR version 10 model.\n",
            "[ SUCCESS ] XML file: /content/tf_final.xml\n",
            "[ SUCCESS ] BIN file: /content/tf_final.bin\n",
            "[ SUCCESS ] Total execution time: 31.38 seconds. \n",
            "[ SUCCESS ] Memory consumed: 366 MB. \n",
            "It's been a while, check for a new version of Intel(R) Distribution of OpenVINO(TM) toolkit here https://software.intel.com/content/www/us/en/develop/tools/openvino-toolkit/download.html?cid=other&source=prod&campid=ww_2022_bu_IOTG_OpenVINO-2022-1&content=upg_all&medium=organic or on the GitHub*\n"
          ]
        }
      ]
    },
    {
      "cell_type": "code",
      "source": [
        ""
      ],
      "metadata": {
        "id": "b4MRrHYQFbPP"
      },
      "execution_count": null,
      "outputs": []
    }
  ],
  "metadata": {
    "colab": {
      "name": "Model Converter - h5 to pb.ipynb",
      "provenance": []
    },
    "kernelspec": {
      "display_name": "Python 3",
      "name": "python3"
    }
  },
  "nbformat": 4,
  "nbformat_minor": 0
}